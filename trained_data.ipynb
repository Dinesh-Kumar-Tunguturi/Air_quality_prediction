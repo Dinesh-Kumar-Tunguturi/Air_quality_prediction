{
  "cells": [
    {
      "cell_type": "markdown",
      "metadata": {
        "id": "-pGcHJCceaNo"
      },
      "source": [
        "# New Section"
      ]
    },
    {
      "cell_type": "code",
      "execution_count": 1,
      "metadata": {
        "id": "OP24Sy7OgX61"
      },
      "outputs": [],
      "source": [
        "import pandas as pd\n",
        "import numpy as np\n",
        "import matplotlib.pyplot as plt\n",
        "import seaborn as sns\n",
        "from sklearn.preprocessing import StandardScaler\n",
        "from sklearn.model_selection import train_test_split\n",
        "# classification\n",
        "from sklearn.ensemble import RandomForestClassifier\n",
        "from sklearn.linear_model import LogisticRegression\n",
        "from sklearn.tree import DecisionTreeClassifier\n",
        "from sklearn.neighbors import KNeighborsClassifier\n",
        "from sklearn.svm import SVC\n",
        "\n",
        "from sklearn.metrics import accuracy_score, classification_report, confusion_matrix\n",
        "\n"
      ]
    },
    {
      "cell_type": "code",
      "execution_count": 2,
      "metadata": {
        "colab": {
          "base_uri": "https://localhost:8080/"
        },
        "id": "eADUd3XFgwte",
        "outputId": "c7ea0876-b223-4f62-f3f7-1a9a1e1c79a9"
      },
      "outputs": [
        {
          "name": "stdout",
          "output_type": "stream",
          "text": [
            "        City      Date  PM2.5  PM10     NO    NO2    NOx  NH3     CO    SO2  \\\n",
            "0  Ahmedabad  1/1/2015    NaN   NaN   0.92  18.22  17.15  NaN   0.92  27.64   \n",
            "1  Ahmedabad  1/2/2015    NaN   NaN   0.97  15.69  16.46  NaN   0.97  24.55   \n",
            "2  Ahmedabad  1/3/2015    NaN   NaN  17.40  19.30  29.70  NaN  17.40  29.07   \n",
            "3  Ahmedabad  1/4/2015    NaN   NaN   1.70  18.48  17.97  NaN   1.70  18.59   \n",
            "4  Ahmedabad  1/5/2015    NaN   NaN  22.10  21.42  37.76  NaN  22.10  39.33   \n",
            "\n",
            "       O3  Unnamed: 11  Unnamed: 12  Unnamed: 13  Unnamed: 14 AQI_Bucket  \n",
            "0  133.36          NaN          NaN          NaN          NaN        NaN  \n",
            "1   34.06          NaN          NaN          NaN          NaN        NaN  \n",
            "2   30.70          NaN          NaN          NaN          NaN        NaN  \n",
            "3   36.08          NaN          NaN          NaN          NaN        NaN  \n",
            "4   39.31          NaN          NaN          NaN          NaN        NaN  \n",
            "                City       Date  PM2.5   PM10    NO    NO2    NOx    NH3  \\\n",
            "29526  Visakhapatnam  6/27/2020  15.02  50.94  7.68  25.06  19.54  12.47   \n",
            "29527  Visakhapatnam  6/28/2020  24.38  74.09  3.42  26.06  16.53  11.99   \n",
            "29528  Visakhapatnam  6/29/2020  22.91  65.73  3.45  29.53  18.33  10.71   \n",
            "29529  Visakhapatnam  6/30/2020  16.64  49.97  4.05  29.26  18.80  10.03   \n",
            "29530  Visakhapatnam   7/1/2020  15.00  66.00  0.40  26.85  14.05   5.20   \n",
            "\n",
            "         CO    SO2     O3  Unnamed: 11  Unnamed: 12  Unnamed: 13  Unnamed: 14  \\\n",
            "29526  0.47   8.55  23.30          NaN          NaN          NaN          NaN   \n",
            "29527  0.52  12.72  30.14          NaN          NaN          NaN          NaN   \n",
            "29528  0.48   8.42  30.96          NaN          NaN          NaN          NaN   \n",
            "29529  0.52   9.84  28.30          NaN          NaN          NaN          NaN   \n",
            "29530  0.59   2.10  17.05          NaN          NaN          NaN          NaN   \n",
            "\n",
            "         AQI_Bucket  \n",
            "29526          Good  \n",
            "29527  Satisfactory  \n",
            "29528  Satisfactory  \n",
            "29529  Satisfactory  \n",
            "29530          Good  \n"
          ]
        }
      ],
      "source": [
        "df = pd.read_csv(\"/content/city_day.csv\")\n",
        "print(df.head())\n",
        "print(df.tail())"
      ]
    },
    {
      "cell_type": "code",
      "execution_count": 17,
      "metadata": {
        "colab": {
          "base_uri": "https://localhost:8080/"
        },
        "id": "c7_bU2ijjdvU",
        "outputId": "3b9b0d18-a0bc-4f9b-9ed4-8f3b6acdad4b"
      },
      "outputs": [
        {
          "name": "stdout",
          "output_type": "stream",
          "text": [
            "        City      Date  PM2.5   PM10     NO    NO2    NOx    NH3     CO  \\\n",
            "0  Ahmedabad  1/1/2015  48.57  95.68   0.92  18.22  17.15  15.85   0.92   \n",
            "1  Ahmedabad  1/2/2015  48.57  95.68   0.97  15.69  16.46  15.85   0.97   \n",
            "2  Ahmedabad  1/3/2015  48.57  95.68  17.40  19.30  29.70  15.85  17.40   \n",
            "3  Ahmedabad  1/4/2015  48.57  95.68   1.70  18.48  17.97  15.85   1.70   \n",
            "4  Ahmedabad  1/5/2015  48.57  95.68  22.10  21.42  37.76  15.85  22.10   \n",
            "\n",
            "     SO2      O3  Unnamed: 11  Unnamed: 12  Unnamed: 13  Unnamed: 14  \\\n",
            "0  27.64  133.36          NaN          NaN          NaN          NaN   \n",
            "1  24.55   34.06          NaN          NaN          NaN          NaN   \n",
            "2  29.07   30.70          NaN          NaN          NaN          NaN   \n",
            "3  18.59   36.08          NaN          NaN          NaN          NaN   \n",
            "4  39.33   39.31          NaN          NaN          NaN          NaN   \n",
            "\n",
            "  AQI_Bucket  \n",
            "0        NaN  \n",
            "1        NaN  \n",
            "2        NaN  \n",
            "3        NaN  \n",
            "4        NaN  \n",
            "                City       Date  PM2.5   PM10    NO    NO2    NOx    NH3  \\\n",
            "29526  Visakhapatnam  6/27/2020  15.02  50.94  7.68  25.06  19.54  12.47   \n",
            "29527  Visakhapatnam  6/28/2020  24.38  74.09  3.42  26.06  16.53  11.99   \n",
            "29528  Visakhapatnam  6/29/2020  22.91  65.73  3.45  29.53  18.33  10.71   \n",
            "29529  Visakhapatnam  6/30/2020  16.64  49.97  4.05  29.26  18.80  10.03   \n",
            "29530  Visakhapatnam   7/1/2020  15.00  66.00  0.40  26.85  14.05   5.20   \n",
            "\n",
            "         CO    SO2     O3  Unnamed: 11  Unnamed: 12  Unnamed: 13  Unnamed: 14  \\\n",
            "29526  0.47   8.55  23.30          NaN          NaN          NaN          NaN   \n",
            "29527  0.52  12.72  30.14          NaN          NaN          NaN          NaN   \n",
            "29528  0.48   8.42  30.96          NaN          NaN          NaN          NaN   \n",
            "29529  0.52   9.84  28.30          NaN          NaN          NaN          NaN   \n",
            "29530  0.59   2.10  17.05          NaN          NaN          NaN          NaN   \n",
            "\n",
            "         AQI_Bucket  \n",
            "29526          Good  \n",
            "29527  Satisfactory  \n",
            "29528  Satisfactory  \n",
            "29529  Satisfactory  \n",
            "29530          Good  \n"
          ]
        }
      ],
      "source": [
        "# Clean column names first (important if any column names have leading/trailing spaces)\n",
        "df.columns = df.columns.str.strip()\n",
        "\n",
        "# Updated list – only numerical columns\n",
        "cols_with_zeros = ['PM2.5', 'PM10', 'NO', 'NO2','NOx', 'NH3', 'CO', 'SO2']\n",
        "\n",
        "# Replace 0 with NaN for these columns\n",
        "df[cols_with_zeros] = df[cols_with_zeros].replace(0, np.nan)\n",
        "\n",
        "# Fill NaNs with median of each column\n",
        "df[cols_with_zeros] = df[cols_with_zeros].fillna(df[cols_with_zeros].median())\n",
        "print(df.head())\n",
        "print(df.tail())\n"
      ]
    },
    {
      "cell_type": "code",
      "execution_count": 18,
      "metadata": {
        "id": "Qlclw5M-j-lD"
      },
      "outputs": [],
      "source": [
        "df = df.dropna(subset=['AQI_Bucket'])\n"
      ]
    },
    {
      "cell_type": "code",
      "execution_count": 19,
      "metadata": {
        "colab": {
          "base_uri": "https://localhost:8080/"
        },
        "id": "2OVsIbWro00q",
        "outputId": "06ac8b88-0438-437a-f427-430300d16867"
      },
      "outputs": [
        {
          "name": "stderr",
          "output_type": "stream",
          "text": [
            "/tmp/ipython-input-19-2538893467.py:3: SettingWithCopyWarning: \n",
            "A value is trying to be set on a copy of a slice from a DataFrame.\n",
            "Try using .loc[row_indexer,col_indexer] = value instead\n",
            "\n",
            "See the caveats in the documentation: https://pandas.pydata.org/pandas-docs/stable/user_guide/indexing.html#returning-a-view-versus-a-copy\n",
            "  df['AQI_Bucket'] = le.fit_transform(df['AQI_Bucket'])\n"
          ]
        }
      ],
      "source": [
        "from sklearn.preprocessing import LabelEncoder\n",
        "le = LabelEncoder()\n",
        "df['AQI_Bucket'] = le.fit_transform(df['AQI_Bucket'])\n"
      ]
    },
    {
      "cell_type": "code",
      "execution_count": 20,
      "metadata": {
        "id": "4F9wD3zcz-qC"
      },
      "outputs": [],
      "source": [
        "X = df[['PM2.5', 'PM10', 'NO', 'NO2','NOx', 'NH3', 'CO', 'SO2']]\n",
        "y = df['AQI_Bucket']\n"
      ]
    },
    {
      "cell_type": "code",
      "execution_count": 7,
      "metadata": {
        "id": "oysjejDI0B2c"
      },
      "outputs": [],
      "source": [
        "from sklearn.model_selection import train_test_split\n",
        "\n",
        "X_train, X_test, y_train, y_test = train_test_split(\n",
        "    X, y, test_size=0.2, random_state=42\n",
        ")\n"
      ]
    },
    {
      "cell_type": "code",
      "execution_count": 21,
      "metadata": {
        "colab": {
          "base_uri": "https://localhost:8080/"
        },
        "id": "cp-JYXpI0EjP",
        "outputId": "38fe035a-2bad-45e9-92cc-10309e6b9d44"
      },
      "outputs": [
        {
          "name": "stdout",
          "output_type": "stream",
          "text": [
            "Accuracy: 0.703420523138833\n",
            "Classification Report:\n",
            "               precision    recall  f1-score   support\n",
            "\n",
            "           0       0.59      0.59      0.59       282\n",
            "           1       0.73      0.74      0.73      1745\n",
            "           2       0.53      0.53      0.53       555\n",
            "           3       0.76      0.74      0.75      1655\n",
            "           4       0.76      0.74      0.75       271\n",
            "           5       0.66      0.70      0.68       462\n",
            "\n",
            "    accuracy                           0.70      4970\n",
            "   macro avg       0.67      0.67      0.67      4970\n",
            "weighted avg       0.70      0.70      0.70      4970\n",
            "\n",
            "Confusion Matrix:\n",
            " [[ 165    8    1  108    0    0]\n",
            " [   7 1287  167  266    2   16]\n",
            " [   1  151  293   10   10   90]\n",
            " [ 106  311   10 1225    0    3]\n",
            " [   0    2    8    3  201   57]\n",
            " [   0   14   72    1   50  325]]\n"
          ]
        }
      ],
      "source": [
        "from sklearn.tree import DecisionTreeClassifier\n",
        "\n",
        "model = DecisionTreeClassifier(random_state=42)\n",
        "model.fit(X_train, y_train)\n",
        "\n",
        "from sklearn.metrics import accuracy_score, classification_report, confusion_matrix\n",
        "\n",
        "y_pred = model.predict(X_test)\n",
        "\n",
        "print(\"Accuracy:\", accuracy_score(y_test, y_pred))\n",
        "print(\"Classification Report:\\n\", classification_report(y_test, y_pred))\n",
        "print(\"Confusion Matrix:\\n\", confusion_matrix(y_test, y_pred))\n",
        "\n"
      ]
    },
    {
      "cell_type": "code",
      "execution_count": 22,
      "metadata": {
        "colab": {
          "base_uri": "https://localhost:8080/"
        },
        "id": "xBPBFdUC1iCI",
        "outputId": "9aa866ce-a4f4-413f-b807-d4007ccf0b9a"
      },
      "outputs": [
        {
          "name": "stdout",
          "output_type": "stream",
          "text": [
            "Accuracy: 0.703420523138833\n",
            "Classification Report:\n",
            "               precision    recall  f1-score   support\n",
            "\n",
            "           0       0.59      0.59      0.59       282\n",
            "           1       0.73      0.74      0.73      1745\n",
            "           2       0.53      0.53      0.53       555\n",
            "           3       0.76      0.74      0.75      1655\n",
            "           4       0.76      0.74      0.75       271\n",
            "           5       0.66      0.70      0.68       462\n",
            "\n",
            "    accuracy                           0.70      4970\n",
            "   macro avg       0.67      0.67      0.67      4970\n",
            "weighted avg       0.70      0.70      0.70      4970\n",
            "\n",
            "Confusion Matrix:\n",
            " [[ 165    8    1  108    0    0]\n",
            " [   7 1287  167  266    2   16]\n",
            " [   1  151  293   10   10   90]\n",
            " [ 106  311   10 1225    0    3]\n",
            " [   0    2    8    3  201   57]\n",
            " [   0   14   72    1   50  325]]\n"
          ]
        }
      ],
      "source": [
        "# Random Forest\n",
        "rf = RandomForestClassifier()\n",
        "rf.fit(X_train, y_train)\n",
        "\n",
        "from sklearn.metrics import accuracy_score, classification_report, confusion_matrix\n",
        "\n",
        "y_pred = model.predict(X_test)\n",
        "\n",
        "print(\"Accuracy:\", accuracy_score(y_test, y_pred))\n",
        "print(\"Classification Report:\\n\", classification_report(y_test, y_pred))\n",
        "print(\"Confusion Matrix:\\n\", confusion_matrix(y_test, y_pred))"
      ]
    },
    {
      "cell_type": "code",
      "execution_count": 23,
      "metadata": {
        "colab": {
          "base_uri": "https://localhost:8080/"
        },
        "id": "ixIiPuVA1l4e",
        "outputId": "c05b0ca6-c37e-4055-9006-1a5a2c4c7093"
      },
      "outputs": [
        {
          "name": "stdout",
          "output_type": "stream",
          "text": [
            "Accuracy: 0.703420523138833\n",
            "Classification Report:\n",
            "               precision    recall  f1-score   support\n",
            "\n",
            "           0       0.59      0.59      0.59       282\n",
            "           1       0.73      0.74      0.73      1745\n",
            "           2       0.53      0.53      0.53       555\n",
            "           3       0.76      0.74      0.75      1655\n",
            "           4       0.76      0.74      0.75       271\n",
            "           5       0.66      0.70      0.68       462\n",
            "\n",
            "    accuracy                           0.70      4970\n",
            "   macro avg       0.67      0.67      0.67      4970\n",
            "weighted avg       0.70      0.70      0.70      4970\n",
            "\n",
            "Confusion Matrix:\n",
            " [[ 165    8    1  108    0    0]\n",
            " [   7 1287  167  266    2   16]\n",
            " [   1  151  293   10   10   90]\n",
            " [ 106  311   10 1225    0    3]\n",
            " [   0    2    8    3  201   57]\n",
            " [   0   14   72    1   50  325]]\n"
          ]
        }
      ],
      "source": [
        "\n",
        "# SVM\n",
        "svm = SVC()\n",
        "svm.fit(X_train, y_train)\n",
        "\n",
        "from sklearn.metrics import accuracy_score, classification_report, confusion_matrix\n",
        "\n",
        "y_pred = model.predict(X_test)\n",
        "\n",
        "print(\"Accuracy:\", accuracy_score(y_test, y_pred))\n",
        "print(\"Classification Report:\\n\", classification_report(y_test, y_pred))\n",
        "print(\"Confusion Matrix:\\n\", confusion_matrix(y_test, y_pred))"
      ]
    },
    {
      "cell_type": "code",
      "execution_count": 24,
      "metadata": {
        "colab": {
          "base_uri": "https://localhost:8080/"
        },
        "id": "vL16JGJB0L4X",
        "outputId": "b2d751fb-638a-4aef-ed6a-38cfa5c31f2e"
      },
      "outputs": [
        {
          "name": "stdout",
          "output_type": "stream",
          "text": [
            "Accuracy: 0.703420523138833\n",
            "Classification Report:\n",
            "               precision    recall  f1-score   support\n",
            "\n",
            "           0       0.59      0.59      0.59       282\n",
            "           1       0.73      0.74      0.73      1745\n",
            "           2       0.53      0.53      0.53       555\n",
            "           3       0.76      0.74      0.75      1655\n",
            "           4       0.76      0.74      0.75       271\n",
            "           5       0.66      0.70      0.68       462\n",
            "\n",
            "    accuracy                           0.70      4970\n",
            "   macro avg       0.67      0.67      0.67      4970\n",
            "weighted avg       0.70      0.70      0.70      4970\n",
            "\n",
            "Confusion Matrix:\n",
            " [[ 165    8    1  108    0    0]\n",
            " [   7 1287  167  266    2   16]\n",
            " [   1  151  293   10   10   90]\n",
            " [ 106  311   10 1225    0    3]\n",
            " [   0    2    8    3  201   57]\n",
            " [   0   14   72    1   50  325]]\n"
          ]
        }
      ],
      "source": [
        "# KNN\n",
        "KNN = KNeighborsClassifier()\n",
        "KNN.fit(X_train, y_train)\n",
        "\n",
        "\n",
        "from sklearn.metrics import accuracy_score, classification_report, confusion_matrix\n",
        "\n",
        "y_pred = model.predict(X_test)\n",
        "\n",
        "print(\"Accuracy:\", accuracy_score(y_test, y_pred))\n",
        "print(\"Classification Report:\\n\", classification_report(y_test, y_pred))\n",
        "print(\"Confusion Matrix:\\n\", confusion_matrix(y_test, y_pred))\n",
        "\n"
      ]
    },
    {
      "cell_type": "code",
      "execution_count": 25,
      "metadata": {
        "colab": {
          "base_uri": "https://localhost:8080/"
        },
        "id": "BDaxhUOX1b97",
        "outputId": "fc25159d-e74a-427c-951b-493676ca8aa2"
      },
      "outputs": [
        {
          "name": "stdout",
          "output_type": "stream",
          "text": [
            "Accuracy: 0.6589537223340041\n",
            "Classification Report:\n",
            "               precision    recall  f1-score   support\n",
            "\n",
            "           0       0.00      0.00      0.00       282\n",
            "           1       0.59      0.83      0.69      1745\n",
            "           2       0.29      0.01      0.01       555\n",
            "           3       0.71      0.85      0.77      1655\n",
            "           4       0.86      0.61      0.71       271\n",
            "           5       0.73      0.55      0.63       462\n",
            "\n",
            "    accuracy                           0.66      4970\n",
            "   macro avg       0.53      0.47      0.47      4970\n",
            "weighted avg       0.59      0.66      0.60      4970\n",
            "\n",
            "Confusion Matrix:\n",
            " [[   0    4    0  278    0    0]\n",
            " [   0 1444    0  296    2    3]\n",
            " [   0  530    4    7    1   13]\n",
            " [   0  247    0 1406    0    2]\n",
            " [   0   31    0    0  166   74]\n",
            " [   0  172   10    0   25  255]]\n"
          ]
        },
        {
          "name": "stderr",
          "output_type": "stream",
          "text": [
            "/usr/local/lib/python3.11/dist-packages/sklearn/metrics/_classification.py:1565: UndefinedMetricWarning: Precision is ill-defined and being set to 0.0 in labels with no predicted samples. Use `zero_division` parameter to control this behavior.\n",
            "  _warn_prf(average, modifier, f\"{metric.capitalize()} is\", len(result))\n",
            "/usr/local/lib/python3.11/dist-packages/sklearn/metrics/_classification.py:1565: UndefinedMetricWarning: Precision is ill-defined and being set to 0.0 in labels with no predicted samples. Use `zero_division` parameter to control this behavior.\n",
            "  _warn_prf(average, modifier, f\"{metric.capitalize()} is\", len(result))\n",
            "/usr/local/lib/python3.11/dist-packages/sklearn/metrics/_classification.py:1565: UndefinedMetricWarning: Precision is ill-defined and being set to 0.0 in labels with no predicted samples. Use `zero_division` parameter to control this behavior.\n",
            "  _warn_prf(average, modifier, f\"{metric.capitalize()} is\", len(result))\n"
          ]
        }
      ],
      "source": [
        "from sklearn.preprocessing import StandardScaler\n",
        "from sklearn.linear_model import LogisticRegression\n",
        "from sklearn.model_selection import train_test_split\n",
        "from sklearn.metrics import accuracy_score, classification_report, confusion_matrix\n",
        "\n",
        "# Step 1: Scale your features\n",
        "scaler = StandardScaler()\n",
        "X_scaled = scaler.fit_transform(X)  # X = your features like PM2.5, PM10, etc.\n",
        "\n",
        "# Step 2: Train-test split\n",
        "X_train, X_test, y_train, y_test = train_test_split(X_scaled, y, test_size=0.2, random_state=42)\n",
        "\n",
        "# Step 3: Use Logistic Regression with increased max_iter and alternate solver\n",
        "logreg = LogisticRegression(max_iter=3000, solver='liblinear')  # 'liblinear' is good for small datasets\n",
        "logreg.fit(X_train, y_train)\n",
        "\n",
        "# Step 4: Evaluate\n",
        "y_pred = logreg.predict(X_test)\n",
        "print(\"Accuracy:\", accuracy_score(y_test, y_pred))\n",
        "print(\"Classification Report:\\n\", classification_report(y_test, y_pred))\n",
        "print(\"Confusion Matrix:\\n\", confusion_matrix(y_test, y_pred))\n"
      ]
    },
    {
      "cell_type": "code",
      "execution_count": 27,
      "metadata": {
        "id": "6FHVnUaE2RgS"
      },
      "outputs": [],
      "source": [
        "# Create a DataFrame with X_test and predicted results\n",
        "result_df = pd.DataFrame(X_test, columns=['PM2.5', 'PM10', 'NO', 'NO2','NOx', 'NH3', 'CO', 'SO2'])\n",
        "result_df['Actual'] = y_test.values\n",
        "result_df['Predicted'] = y_pred\n",
        "\n",
        "# Save to CSV\n",
        "result_df.to_csv('prediction_results.csv', index=False)\n"
      ]
    },
    {
      "cell_type": "code",
      "execution_count": 28,
      "metadata": {
        "colab": {
          "base_uri": "https://localhost:8080/"
        },
        "id": "P4_UKYaJu9Ml",
        "outputId": "c9a81ea8-f0f5-4f8c-b055-a7eea92dfd4e"
      },
      "outputs": [
        {
          "name": "stdout",
          "output_type": "stream",
          "text": [
            "Model trained and saved as ml_model.pkl\n"
          ]
        }
      ],
      "source": [
        "import pandas as pd\n",
        "from sklearn.ensemble import RandomForestClassifier\n",
        "import joblib\n",
        "\n",
        "# 1. Load the CSV file\n",
        "df = pd.read_csv('city_day.csv')\n",
        "\n",
        "# 2. Extract features and target\n",
        "X = df[['PM2.5', 'PM10', 'NO', 'NO2', 'NH3', 'CO', 'SO2']]\n",
        "y = df['AQI_Bucket']  # Make sure this is your label column\n",
        "\n",
        "# 3. Train a model\n",
        "model = DecisionTreeClassifier(random_state=42)\n",
        "model.fit(X_train, y_train)\n",
        "\n",
        "# 4. Save the model to a file\n",
        "joblib.dump(model, 'ml_model.pkl')\n",
        "\n",
        "print(\"Model trained and saved as ml_model.pkl\")\n"
      ]
    },
    {
      "cell_type": "code",
      "execution_count": null,
      "metadata": {
        "id": "eHOobYn53xWk"
      },
      "outputs": [],
      "source": []
    }
  ],
  "metadata": {
    "colab": {
      "provenance": []
    },
    "kernelspec": {
      "display_name": "Python 3",
      "name": "python3"
    }
  },
  "nbformat": 4,
  "nbformat_minor": 0
}
