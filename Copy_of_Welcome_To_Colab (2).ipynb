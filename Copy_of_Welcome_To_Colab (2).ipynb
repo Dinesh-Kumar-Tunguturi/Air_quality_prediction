{
  "cells": [
    {
      "cell_type": "markdown",
      "source": [
        "# New Section"
      ],
      "metadata": {
        "id": "-pGcHJCceaNo"
      }
    },
    {
      "cell_type": "code",
      "source": [
        "import pandas as pd\n",
        "import numpy as np\n",
        "import matplotlib.pyplot as plt\n",
        "import seaborn as sns\n",
        "from sklearn.preprocessing import StandardScaler\n",
        "from sklearn.model_selection import train_test_split\n",
        "# classification\n",
        "from sklearn.ensemble import RandomForestClassifier\n",
        "from sklearn.linear_model import LogisticRegression\n",
        "from sklearn.tree import DecisionTreeClassifier\n",
        "from sklearn.neighbors import KNeighborsClassifier\n",
        "from sklearn.svm import SVC\n",
        "\n",
        "from sklearn.metrics import accuracy_score, classification_report, confusion_matrix\n",
        "\n"
      ],
      "metadata": {
        "id": "OP24Sy7OgX61"
      },
      "execution_count": 3,
      "outputs": []
    },
    {
      "cell_type": "code",
      "source": [
        "df = pd.read_csv(\"/content/city_day.csv\")\n",
        "print(df.head())\n",
        "print(df.tail())"
      ],
      "metadata": {
        "colab": {
          "base_uri": "https://localhost:8080/"
        },
        "id": "eADUd3XFgwte",
        "outputId": "1b94f812-54bd-471d-d632-8cee701a743b"
      },
      "execution_count": 4,
      "outputs": [
        {
          "output_type": "stream",
          "name": "stdout",
          "text": [
            "        City      Date  PM2.5  PM10     NO    NO2    NOx  NH3     CO    SO2  \\\n",
            "0  Ahmedabad  1/1/2015    NaN   NaN   0.92  18.22  17.15  NaN   0.92  27.64   \n",
            "1  Ahmedabad  1/2/2015    NaN   NaN   0.97  15.69  16.46  NaN   0.97  24.55   \n",
            "2  Ahmedabad  1/3/2015    NaN   NaN  17.40  19.30  29.70  NaN  17.40  29.07   \n",
            "3  Ahmedabad  1/4/2015    NaN   NaN   1.70  18.48  17.97  NaN   1.70  18.59   \n",
            "4  Ahmedabad  1/5/2015    NaN   NaN  22.10  21.42  37.76  NaN  22.10  39.33   \n",
            "\n",
            "       O3  Unnamed: 11  Unnamed: 12  Unnamed: 13  Unnamed: 14 AQI_Bucket  \n",
            "0  133.36          NaN          NaN          NaN          NaN        NaN  \n",
            "1   34.06          NaN          NaN          NaN          NaN        NaN  \n",
            "2   30.70          NaN          NaN          NaN          NaN        NaN  \n",
            "3   36.08          NaN          NaN          NaN          NaN        NaN  \n",
            "4   39.31          NaN          NaN          NaN          NaN        NaN  \n",
            "           City       Date   PM2.5    PM10     NO    NO2    NOx  NH3    CO  \\\n",
            "13650  Gurugram  4/30/2019  120.11  293.70  16.77  18.57  28.34  NaN  0.65   \n",
            "13651  Gurugram   5/1/2019  139.89  395.05  16.74  19.29  28.96  NaN  0.71   \n",
            "13652  Gurugram   5/2/2019  115.75  330.49  17.67  18.37  29.04  NaN  0.61   \n",
            "13653  Gurugram   5/3/2019   62.53  148.15  17.73  17.47  28.10  NaN  0.55   \n",
            "13654  Gurugram   5/4/2019   83.48  194.57  27.13  30.37  56.60  NaN  0.84   \n",
            "\n",
            "        SO2     O3  Unnamed: 11  Unnamed: 12  Unnamed: 13  Unnamed: 14  \\\n",
            "13650  5.94  40.79          NaN          NaN          NaN          NaN   \n",
            "13651  4.01  59.08          NaN          NaN          NaN          NaN   \n",
            "13652  3.30  47.63          NaN          NaN          NaN          NaN   \n",
            "13653  3.76  53.69          NaN          NaN          NaN          NaN   \n",
            "13654  3.90  45.01          NaN          NaN          NaN          NaN   \n",
            "\n",
            "      AQI_Bucket  \n",
            "13650       Poor  \n",
            "13651  Very Poor  \n",
            "13652  Very Poor  \n",
            "13653       Poor  \n",
            "13654   Moderate  \n"
          ]
        }
      ]
    },
    {
      "cell_type": "code",
      "source": [
        "# Clean column names first (important if any column names have leading/trailing spaces)\n",
        "df.columns = df.columns.str.strip()\n",
        "\n",
        "# Updated list – only numerical columns\n",
        "cols_with_zeros = ['PM2.5', 'PM10', 'NO', 'NO2','NOx', 'NH3', 'CO', 'SO2']\n",
        "\n",
        "# Replace 0 with NaN for these columns\n",
        "df[cols_with_zeros] = df[cols_with_zeros].replace(0, np.nan)\n",
        "\n",
        "# Fill NaNs with median of each column\n",
        "df[cols_with_zeros] = df[cols_with_zeros].fillna(df[cols_with_zeros].median())\n",
        "print(df.head())\n",
        "print(df.tail())\n"
      ],
      "metadata": {
        "id": "c7_bU2ijjdvU",
        "colab": {
          "base_uri": "https://localhost:8080/"
        },
        "outputId": "3a7cd757-85c7-47a1-f494-0ba4441a2ef8"
      },
      "execution_count": 5,
      "outputs": [
        {
          "output_type": "stream",
          "name": "stdout",
          "text": [
            "        City      Date   PM2.5   PM10     NO    NO2    NOx     NH3     CO  \\\n",
            "0  Ahmedabad  1/1/2015  48.455  98.67   0.92  18.22  17.15  24.385   0.92   \n",
            "1  Ahmedabad  1/2/2015  48.455  98.67   0.97  15.69  16.46  24.385   0.97   \n",
            "2  Ahmedabad  1/3/2015  48.455  98.67  17.40  19.30  29.70  24.385  17.40   \n",
            "3  Ahmedabad  1/4/2015  48.455  98.67   1.70  18.48  17.97  24.385   1.70   \n",
            "4  Ahmedabad  1/5/2015  48.455  98.67  22.10  21.42  37.76  24.385  22.10   \n",
            "\n",
            "     SO2      O3  Unnamed: 11  Unnamed: 12  Unnamed: 13  Unnamed: 14  \\\n",
            "0  27.64  133.36          NaN          NaN          NaN          NaN   \n",
            "1  24.55   34.06          NaN          NaN          NaN          NaN   \n",
            "2  29.07   30.70          NaN          NaN          NaN          NaN   \n",
            "3  18.59   36.08          NaN          NaN          NaN          NaN   \n",
            "4  39.33   39.31          NaN          NaN          NaN          NaN   \n",
            "\n",
            "  AQI_Bucket  \n",
            "0        NaN  \n",
            "1        NaN  \n",
            "2        NaN  \n",
            "3        NaN  \n",
            "4        NaN  \n",
            "           City       Date   PM2.5    PM10     NO    NO2    NOx     NH3    CO  \\\n",
            "13650  Gurugram  4/30/2019  120.11  293.70  16.77  18.57  28.34  24.385  0.65   \n",
            "13651  Gurugram   5/1/2019  139.89  395.05  16.74  19.29  28.96  24.385  0.71   \n",
            "13652  Gurugram   5/2/2019  115.75  330.49  17.67  18.37  29.04  24.385  0.61   \n",
            "13653  Gurugram   5/3/2019   62.53  148.15  17.73  17.47  28.10  24.385  0.55   \n",
            "13654  Gurugram   5/4/2019   83.48  194.57  27.13  30.37  56.60  24.385  0.84   \n",
            "\n",
            "        SO2     O3  Unnamed: 11  Unnamed: 12  Unnamed: 13  Unnamed: 14  \\\n",
            "13650  5.94  40.79          NaN          NaN          NaN          NaN   \n",
            "13651  4.01  59.08          NaN          NaN          NaN          NaN   \n",
            "13652  3.30  47.63          NaN          NaN          NaN          NaN   \n",
            "13653  3.76  53.69          NaN          NaN          NaN          NaN   \n",
            "13654  3.90  45.01          NaN          NaN          NaN          NaN   \n",
            "\n",
            "      AQI_Bucket  \n",
            "13650       Poor  \n",
            "13651  Very Poor  \n",
            "13652  Very Poor  \n",
            "13653       Poor  \n",
            "13654   Moderate  \n"
          ]
        }
      ]
    },
    {
      "cell_type": "code",
      "source": [
        "df = df.dropna(subset=['AQI_Bucket'])\n"
      ],
      "metadata": {
        "id": "Qlclw5M-j-lD"
      },
      "execution_count": 6,
      "outputs": []
    },
    {
      "cell_type": "code",
      "source": [
        "import pandas as pd\n",
        "\n",
        "# Load the dataset\n",
        "df = pd.read_csv('city_day.csv')\n",
        "\n",
        "# List of important pollutant columns\n",
        "columns_to_check = [\"PM2.5\", \"PM10\", \"NO\", \"NO2\", \"NOx\", \"NH3\", \"CO\", \"SO2\", \"O3\"]\n",
        "\n",
        "# Fill missing values with the mean of each column\n",
        "for col in columns_to_check:\n",
        "    df[col].fillna(df[col].mean(), inplace=True)\n",
        "\n",
        "# Describe statistics: min, max, mean, std\n",
        "summary = df[columns_to_check].describe().loc[['min', 'max', 'mean', 'std']]\n",
        "\n",
        "print(\"✅ Summary Statistics for Input Factors:\")\n",
        "print(summary)\n"
      ],
      "metadata": {
        "colab": {
          "base_uri": "https://localhost:8080/"
        },
        "id": "uwekDu8pshtV",
        "outputId": "cb1fcee9-f937-418e-ae51-2438259368e3"
      },
      "execution_count": 17,
      "outputs": [
        {
          "output_type": "stream",
          "name": "stdout",
          "text": [
            "✅ Summary Statistics for Input Factors:\n",
            "           PM2.5         PM10         NO         NO2         NOx         NH3  \\\n",
            "min     0.040000     0.010000    0.02000    0.010000    0.000000    0.010000   \n",
            "max   949.990000  1000.000000  390.68000  362.210000  467.630000  352.890000   \n",
            "mean   67.450578   118.127103   17.57473   28.560659   32.309123   23.483476   \n",
            "std    59.414476    71.500953   21.35922   22.941051   29.317936   20.711370   \n",
            "\n",
            "              CO         SO2          O3  \n",
            "min     0.000000    0.010000    0.010000  \n",
            "max   175.810000  193.860000  257.730000  \n",
            "mean    2.248598   14.531977   34.491430  \n",
            "std     6.715753   16.909088   20.163443  \n"
          ]
        },
        {
          "output_type": "stream",
          "name": "stderr",
          "text": [
            "/tmp/ipython-input-17-4096753210.py:11: FutureWarning: A value is trying to be set on a copy of a DataFrame or Series through chained assignment using an inplace method.\n",
            "The behavior will change in pandas 3.0. This inplace method will never work because the intermediate object on which we are setting values always behaves as a copy.\n",
            "\n",
            "For example, when doing 'df[col].method(value, inplace=True)', try using 'df.method({col: value}, inplace=True)' or df[col] = df[col].method(value) instead, to perform the operation inplace on the original object.\n",
            "\n",
            "\n",
            "  df[col].fillna(df[col].mean(), inplace=True)\n"
          ]
        }
      ]
    },
    {
      "cell_type": "code",
      "source": [
        "import pandas as pd\n",
        "\n",
        "# Load your dataset\n",
        "df = pd.read_csv('/content/city_day.csv')  # Replace with your actual file path\n",
        "\n",
        "# List of input factor columns\n",
        "input_columns = ['PM2.5', 'PM10', 'NO', 'NO2', 'NOx', 'NH3', 'CO', 'SO2', 'O3']\n",
        "\n",
        "# Update all values < 1 to 1 in these columns\n",
        "for col in input_columns:\n",
        "    df[col] = df[col].apply(lambda x: max(x, 1))\n",
        "\n",
        "# Optional: Save the updated dataset to a new file\n",
        "df.to_csv('updated_dataset.csv', index=False)\n",
        "\n",
        "print(\"✅ All minimum values are now set to 1.\")\n",
        "\n",
        "summary = df[columns_to_check].describe().loc[['min', 'max', 'mean', 'std']]\n",
        "\n",
        "print(\"✅ Summary Statistics for Input Factors:\")\n",
        "print(summary)\n"
      ],
      "metadata": {
        "colab": {
          "base_uri": "https://localhost:8080/"
        },
        "id": "bP6w69xjvZta",
        "outputId": "55fecca4-daeb-4c5e-cff9-4cc4d7d0e89b"
      },
      "execution_count": 19,
      "outputs": [
        {
          "output_type": "stream",
          "name": "stdout",
          "text": [
            "✅ All minimum values are now set to 1.\n",
            "✅ Summary Statistics for Input Factors:\n",
            "           PM2.5         PM10          NO         NO2         NOx         NH3  \\\n",
            "min     1.000000     1.000000    1.000000    1.000000    1.000000    1.000000   \n",
            "max   949.990000  1000.000000  390.680000  362.210000  467.630000  352.890000   \n",
            "mean   67.450711   118.128515   17.580945   28.566132   32.340674   23.487037   \n",
            "std    64.661312    90.603278   22.781262   24.468497   31.614275   25.681104   \n",
            "\n",
            "              CO         SO2          O3  \n",
            "min     1.000000    1.000000    1.000000  \n",
            "max   175.810000  193.860000  257.730000  \n",
            "mean    2.521637   14.533109   34.493676  \n",
            "std     6.894697   18.132918   21.691423  \n"
          ]
        }
      ]
    },
    {
      "cell_type": "code",
      "source": [
        "from sklearn.preprocessing import LabelEncoder\n",
        "le = LabelEncoder()\n",
        "df['AQI_Bucket'] = le.fit_transform(df['AQI_Bucket'])\n"
      ],
      "metadata": {
        "id": "2OVsIbWro00q",
        "colab": {
          "base_uri": "https://localhost:8080/"
        },
        "outputId": "6d2b16b1-e520-4a14-a62a-fd190fdc9307"
      },
      "execution_count": 7,
      "outputs": [
        {
          "output_type": "stream",
          "name": "stderr",
          "text": [
            "/tmp/ipython-input-7-2538893467.py:3: SettingWithCopyWarning: \n",
            "A value is trying to be set on a copy of a slice from a DataFrame.\n",
            "Try using .loc[row_indexer,col_indexer] = value instead\n",
            "\n",
            "See the caveats in the documentation: https://pandas.pydata.org/pandas-docs/stable/user_guide/indexing.html#returning-a-view-versus-a-copy\n",
            "  df['AQI_Bucket'] = le.fit_transform(df['AQI_Bucket'])\n"
          ]
        }
      ]
    },
    {
      "cell_type": "code",
      "source": [
        "X = df[['PM2.5', 'PM10', 'NO', 'NO2','NOx', 'NH3', 'CO', 'SO2']]\n",
        "y = df['AQI_Bucket']\n"
      ],
      "metadata": {
        "id": "4F9wD3zcz-qC"
      },
      "execution_count": 8,
      "outputs": []
    },
    {
      "cell_type": "code",
      "source": [
        "from sklearn.model_selection import train_test_split\n",
        "\n",
        "X_train, X_test, y_train, y_test = train_test_split(\n",
        "    X, y, test_size=0.2, random_state=42\n",
        ")\n"
      ],
      "metadata": {
        "id": "oysjejDI0B2c"
      },
      "execution_count": 9,
      "outputs": []
    },
    {
      "cell_type": "code",
      "source": [
        "from sklearn.tree import DecisionTreeClassifier\n",
        "\n",
        "model = DecisionTreeClassifier(random_state=42)\n",
        "model.fit(X_train, y_train)\n",
        "\n",
        "from sklearn.metrics import accuracy_score, classification_report, confusion_matrix\n",
        "\n",
        "y_pred = model.predict(X_test)\n",
        "\n",
        "print(\"Accuracy:\", accuracy_score(y_test, y_pred))\n",
        "print(\"Classification Report:\\n\", classification_report(y_test, y_pred))\n",
        "print(\"Confusion Matrix:\\n\", confusion_matrix(y_test, y_pred))\n",
        "\n"
      ],
      "metadata": {
        "colab": {
          "base_uri": "https://localhost:8080/"
        },
        "id": "cp-JYXpI0EjP",
        "outputId": "47c40b91-838e-4ee3-cb3d-32c82c039371"
      },
      "execution_count": 10,
      "outputs": [
        {
          "output_type": "stream",
          "name": "stdout",
          "text": [
            "Accuracy: 0.688981288981289\n",
            "Classification Report:\n",
            "               precision    recall  f1-score   support\n",
            "\n",
            "           0       0.59      0.65      0.61       122\n",
            "           1       0.68      0.70      0.69       762\n",
            "           2       0.58      0.55      0.57       286\n",
            "           3       0.75      0.74      0.75       812\n",
            "           4       0.74      0.78      0.76       196\n",
            "           5       0.64      0.59      0.62       227\n",
            "\n",
            "    accuracy                           0.69      2405\n",
            "   macro avg       0.66      0.67      0.67      2405\n",
            "weighted avg       0.69      0.69      0.69      2405\n",
            "\n",
            "Confusion Matrix:\n",
            " [[ 79   7   2  34   0   0]\n",
            " [  3 532  61 158   3   5]\n",
            " [  1  79 158   3   4  41]\n",
            " [ 52 155   4 600   0   1]\n",
            " [  0   4  11   0 153  28]\n",
            " [  0  10  35   1  46 135]]\n"
          ]
        }
      ]
    },
    {
      "cell_type": "code",
      "source": [
        "# Random Forest\n",
        "rf = RandomForestClassifier()\n",
        "rf.fit(X_train, y_train)\n",
        "\n",
        "from sklearn.metrics import accuracy_score, classification_report, confusion_matrix\n",
        "\n",
        "y_pred = model.predict(X_test)\n",
        "\n",
        "print(\"Accuracy:\", accuracy_score(y_test, y_pred))\n",
        "print(\"Classification Report:\\n\", classification_report(y_test, y_pred))\n",
        "print(\"Confusion Matrix:\\n\", confusion_matrix(y_test, y_pred))"
      ],
      "metadata": {
        "colab": {
          "base_uri": "https://localhost:8080/"
        },
        "id": "xBPBFdUC1iCI",
        "outputId": "a06d659c-1bd9-4c6b-f78b-b542b48a2178"
      },
      "execution_count": 11,
      "outputs": [
        {
          "output_type": "stream",
          "name": "stdout",
          "text": [
            "Accuracy: 0.688981288981289\n",
            "Classification Report:\n",
            "               precision    recall  f1-score   support\n",
            "\n",
            "           0       0.59      0.65      0.61       122\n",
            "           1       0.68      0.70      0.69       762\n",
            "           2       0.58      0.55      0.57       286\n",
            "           3       0.75      0.74      0.75       812\n",
            "           4       0.74      0.78      0.76       196\n",
            "           5       0.64      0.59      0.62       227\n",
            "\n",
            "    accuracy                           0.69      2405\n",
            "   macro avg       0.66      0.67      0.67      2405\n",
            "weighted avg       0.69      0.69      0.69      2405\n",
            "\n",
            "Confusion Matrix:\n",
            " [[ 79   7   2  34   0   0]\n",
            " [  3 532  61 158   3   5]\n",
            " [  1  79 158   3   4  41]\n",
            " [ 52 155   4 600   0   1]\n",
            " [  0   4  11   0 153  28]\n",
            " [  0  10  35   1  46 135]]\n"
          ]
        }
      ]
    },
    {
      "cell_type": "code",
      "source": [
        "\n",
        "# SVM\n",
        "svm = SVC()\n",
        "svm.fit(X_train, y_train)\n",
        "\n",
        "from sklearn.metrics import accuracy_score, classification_report, confusion_matrix\n",
        "\n",
        "y_pred = model.predict(X_test)\n",
        "\n",
        "print(\"Accuracy:\", accuracy_score(y_test, y_pred))\n",
        "print(\"Classification Report:\\n\", classification_report(y_test, y_pred))\n",
        "print(\"Confusion Matrix:\\n\", confusion_matrix(y_test, y_pred))"
      ],
      "metadata": {
        "colab": {
          "base_uri": "https://localhost:8080/"
        },
        "id": "ixIiPuVA1l4e",
        "outputId": "0d337835-3627-412d-afe2-e3ffa489344a"
      },
      "execution_count": 12,
      "outputs": [
        {
          "output_type": "stream",
          "name": "stdout",
          "text": [
            "Accuracy: 0.688981288981289\n",
            "Classification Report:\n",
            "               precision    recall  f1-score   support\n",
            "\n",
            "           0       0.59      0.65      0.61       122\n",
            "           1       0.68      0.70      0.69       762\n",
            "           2       0.58      0.55      0.57       286\n",
            "           3       0.75      0.74      0.75       812\n",
            "           4       0.74      0.78      0.76       196\n",
            "           5       0.64      0.59      0.62       227\n",
            "\n",
            "    accuracy                           0.69      2405\n",
            "   macro avg       0.66      0.67      0.67      2405\n",
            "weighted avg       0.69      0.69      0.69      2405\n",
            "\n",
            "Confusion Matrix:\n",
            " [[ 79   7   2  34   0   0]\n",
            " [  3 532  61 158   3   5]\n",
            " [  1  79 158   3   4  41]\n",
            " [ 52 155   4 600   0   1]\n",
            " [  0   4  11   0 153  28]\n",
            " [  0  10  35   1  46 135]]\n"
          ]
        }
      ]
    },
    {
      "cell_type": "code",
      "source": [
        "# KNN\n",
        "KNN = KNeighborsClassifier()\n",
        "KNN.fit(X_train, y_train)\n",
        "\n",
        "\n",
        "from sklearn.metrics import accuracy_score, classification_report, confusion_matrix\n",
        "\n",
        "y_pred = model.predict(X_test)\n",
        "\n",
        "print(\"Accuracy:\", accuracy_score(y_test, y_pred))\n",
        "print(\"Classification Report:\\n\", classification_report(y_test, y_pred))\n",
        "print(\"Confusion Matrix:\\n\", confusion_matrix(y_test, y_pred))\n",
        "\n"
      ],
      "metadata": {
        "colab": {
          "base_uri": "https://localhost:8080/"
        },
        "id": "vL16JGJB0L4X",
        "outputId": "6943d3e2-844f-439c-946a-cca4d154ce2c"
      },
      "execution_count": 13,
      "outputs": [
        {
          "output_type": "stream",
          "name": "stdout",
          "text": [
            "Accuracy: 0.688981288981289\n",
            "Classification Report:\n",
            "               precision    recall  f1-score   support\n",
            "\n",
            "           0       0.59      0.65      0.61       122\n",
            "           1       0.68      0.70      0.69       762\n",
            "           2       0.58      0.55      0.57       286\n",
            "           3       0.75      0.74      0.75       812\n",
            "           4       0.74      0.78      0.76       196\n",
            "           5       0.64      0.59      0.62       227\n",
            "\n",
            "    accuracy                           0.69      2405\n",
            "   macro avg       0.66      0.67      0.67      2405\n",
            "weighted avg       0.69      0.69      0.69      2405\n",
            "\n",
            "Confusion Matrix:\n",
            " [[ 79   7   2  34   0   0]\n",
            " [  3 532  61 158   3   5]\n",
            " [  1  79 158   3   4  41]\n",
            " [ 52 155   4 600   0   1]\n",
            " [  0   4  11   0 153  28]\n",
            " [  0  10  35   1  46 135]]\n"
          ]
        }
      ]
    },
    {
      "cell_type": "code",
      "source": [
        "from sklearn.preprocessing import StandardScaler\n",
        "from sklearn.linear_model import LogisticRegression\n",
        "from sklearn.model_selection import train_test_split\n",
        "from sklearn.metrics import accuracy_score, classification_report, confusion_matrix\n",
        "\n",
        "# Step 1: Scale your features\n",
        "scaler = StandardScaler()\n",
        "X_scaled = scaler.fit_transform(X)  # X = your features like PM2.5, PM10, etc.\n",
        "\n",
        "# Step 2: Train-test split\n",
        "X_train, X_test, y_train, y_test = train_test_split(X_scaled, y, test_size=0.2, random_state=42)\n",
        "\n",
        "# Step 3: Use Logistic Regression with increased max_iter and alternate solver\n",
        "logreg = LogisticRegression(max_iter=3000, solver='liblinear')  # 'liblinear' is good for small datasets\n",
        "logreg.fit(X_train, y_train)\n",
        "\n",
        "# Step 4: Evaluate\n",
        "y_pred = logreg.predict(X_test)\n",
        "print(\"Accuracy:\", accuracy_score(y_test, y_pred))\n",
        "print(\"Classification Report:\\n\", classification_report(y_test, y_pred))\n",
        "print(\"Confusion Matrix:\\n\", confusion_matrix(y_test, y_pred))\n"
      ],
      "metadata": {
        "colab": {
          "base_uri": "https://localhost:8080/"
        },
        "id": "BDaxhUOX1b97",
        "outputId": "132ff370-e9d0-4591-f344-db8b2134cabe"
      },
      "execution_count": 14,
      "outputs": [
        {
          "output_type": "stream",
          "name": "stdout",
          "text": [
            "Accuracy: 0.6228690228690229\n",
            "Classification Report:\n",
            "               precision    recall  f1-score   support\n",
            "\n",
            "           0       0.00      0.00      0.00       122\n",
            "           1       0.55      0.64      0.59       762\n",
            "           2       0.37      0.06      0.11       286\n",
            "           3       0.66      0.91      0.76       812\n",
            "           4       0.77      0.78      0.77       196\n",
            "           5       0.71      0.45      0.55       227\n",
            "\n",
            "    accuracy                           0.62      2405\n",
            "   macro avg       0.51      0.47      0.46      2405\n",
            "weighted avg       0.57      0.62      0.57      2405\n",
            "\n",
            "Confusion Matrix:\n",
            " [[  0   2   0 120   0   0]\n",
            " [  0 490   7 260   5   0]\n",
            " [  0 246  18   2   5  15]\n",
            " [  0  77   0 735   0   0]\n",
            " [  0   8   9   0 152  27]\n",
            " [  0  74  15   0  35 103]]\n"
          ]
        },
        {
          "output_type": "stream",
          "name": "stderr",
          "text": [
            "/usr/local/lib/python3.11/dist-packages/sklearn/metrics/_classification.py:1565: UndefinedMetricWarning: Precision is ill-defined and being set to 0.0 in labels with no predicted samples. Use `zero_division` parameter to control this behavior.\n",
            "  _warn_prf(average, modifier, f\"{metric.capitalize()} is\", len(result))\n",
            "/usr/local/lib/python3.11/dist-packages/sklearn/metrics/_classification.py:1565: UndefinedMetricWarning: Precision is ill-defined and being set to 0.0 in labels with no predicted samples. Use `zero_division` parameter to control this behavior.\n",
            "  _warn_prf(average, modifier, f\"{metric.capitalize()} is\", len(result))\n",
            "/usr/local/lib/python3.11/dist-packages/sklearn/metrics/_classification.py:1565: UndefinedMetricWarning: Precision is ill-defined and being set to 0.0 in labels with no predicted samples. Use `zero_division` parameter to control this behavior.\n",
            "  _warn_prf(average, modifier, f\"{metric.capitalize()} is\", len(result))\n"
          ]
        }
      ]
    },
    {
      "cell_type": "code",
      "source": [
        "# Create a DataFrame with X_test and predicted results\n",
        "result_df = pd.DataFrame(X_test, columns=['PM2.5', 'PM10', 'NO', 'NO2','NOx', 'NH3', 'CO', 'SO2'])\n",
        "result_df['Actual'] = y_test.values\n",
        "result_df['Predicted'] = y_pred\n",
        "\n",
        "# Save to CSV\n",
        "result_df.to_csv('prediction_results.csv', index=False)\n"
      ],
      "metadata": {
        "id": "6FHVnUaE2RgS"
      },
      "execution_count": 15,
      "outputs": []
    },
    {
      "cell_type": "code",
      "source": [
        "import pandas as pd\n",
        "from sklearn.ensemble import RandomForestClassifier\n",
        "import joblib\n",
        "\n",
        "# 1. Load the CSV file\n",
        "df = pd.read_csv('city_day.csv')\n",
        "\n",
        "# 2. Extract features and target\n",
        "X = df[['PM2.5', 'PM10', 'NO', 'NO2', 'NH3', 'CO', 'SO2']]\n",
        "y = df['AQI_Bucket']  # Make sure this is your label column\n",
        "\n",
        "# 3. Train a model\n",
        "model = DecisionTreeClassifier(random_state=42)\n",
        "model.fit(X_train, y_train)\n",
        "\n",
        "# 4. Save the model to a file\n",
        "joblib.dump(model, 'ml_model.pkl')\n",
        "\n",
        "print(\"Model trained and saved as ml_model.pkl\")\n"
      ],
      "metadata": {
        "colab": {
          "base_uri": "https://localhost:8080/"
        },
        "id": "P4_UKYaJu9Ml",
        "outputId": "f7e415b4-468c-4fb0-8f28-6e2489088844"
      },
      "execution_count": 16,
      "outputs": [
        {
          "output_type": "stream",
          "name": "stdout",
          "text": [
            "Model trained and saved as ml_model.pkl\n"
          ]
        }
      ]
    },
    {
      "cell_type": "code",
      "source": [],
      "metadata": {
        "id": "eHOobYn53xWk"
      },
      "execution_count": 16,
      "outputs": []
    }
  ],
  "metadata": {
    "colab": {
      "provenance": []
    },
    "kernelspec": {
      "display_name": "Python 3",
      "name": "python3"
    }
  },
  "nbformat": 4,
  "nbformat_minor": 0
}